{
 "cells": [
  {
   "cell_type": "code",
   "execution_count": 1,
   "metadata": {},
   "outputs": [
    {
     "name": "stdout",
     "output_type": "stream",
     "text": [
      "[0, 1, 2, 3, 4, 5, 6, 7]\n",
      "[25, 36, 49, 64, 81]\n",
      "4\n",
      "[0, 2, 3, 4, 5, 6, 7]\n",
      "[0, 2, 3, 4, 5, 6, 7, 1]\n",
      "['a', 23, 'dog', 256, 34]\n"
     ]
    }
   ],
   "source": [
    "x=list()\n",
    "y=['a',23,'dog',256]\n",
    "tuple1=(26,56)\n",
    "z=list(tuple1)\n",
    "#list comprehension\n",
    "a=[m for m in range(8)]\n",
    "b=[i**2 for i in range(10) if i>4]\n",
    "print(a)\n",
    "print(b)\n",
    "print(len(y))\n",
    "#deleting\n",
    "del(a[1])\n",
    "print(a)\n",
    "#append #extend #insert(position, value) # pop #remove #sort #sorted\n",
    "a.append(1)\n",
    "print(a)\n",
    "y+=[34,]\n",
    "print(y)"
   ]
  },
  {
   "cell_type": "code",
   "execution_count": 2,
   "metadata": {},
   "outputs": [
    {
     "name": "stdout",
     "output_type": "stream",
     "text": [
      "{32, 3, 'abc'} set()\n",
      "False\n"
     ]
    }
   ],
   "source": [
    "#sets\n",
    "y=set()\n",
    "x={3,54,'abc'}\n",
    "x.add(32)\n",
    "x.remove(54)\n",
    "print(x,y)\n",
    "print(5 in x)"
   ]
  },
  {
   "cell_type": "markdown",
   "metadata": {},
   "source": [
    "Mathematical set operations\n",
    "Interaction (AND):set1 & set 2\n",
    "union(OR):set | set2\n",
    "symmetric diffrence(XOR):set1 ^ set2 differnce in set1 but not in set 2: set1 -set2\n",
    "subset(set2 contains set1): set1<=set2\n",
    "superset(set1 contains set2): set1>=set2"
   ]
  },
  {
   "cell_type": "code",
   "execution_count": 3,
   "metadata": {},
   "outputs": [
    {
     "name": "stdout",
     "output_type": "stream",
     "text": [
      "{2, 5}\n",
      "{1, 2, 3, 5, 6, 7}\n",
      "{1, 3, 6, 7}\n",
      "{1, 3}\n",
      "False\n",
      "False\n"
     ]
    }
   ],
   "source": [
    "a1={1,2,3,5}\n",
    "b1={2,5,6,7}\n",
    "print(a1 & b1)\n",
    "print(a1|b1)\n",
    "print(a1 ^ b1)\n",
    "print(a1-b1)\n",
    "print(a1<=b1)\n",
    "print(a1>=b1)"
   ]
  },
  {
   "cell_type": "code",
   "execution_count": 4,
   "metadata": {},
   "outputs": [
    {
     "name": "stdout",
     "output_type": "stream",
     "text": [
      "{'mark': 23, 'john': 33.8, 'cola': 23.5}\n",
      "{'pork': 25, 'john': 33.8, 'chicken': 22.7}\n",
      "{'pork': 25.3, 'beef': 33.8, 'chichkem': 22.7}\n",
      "{'pork': 25.3, 'beef': 33.8, 'chichkem': 22.7, 'shrimp': 38.2}\n",
      "{'pork': 25.3, 'beef': 33.8, 'chichkem': 22.7}\n",
      "dict_keys(['pork', 'beef', 'chichkem'])\n",
      "dict_values([25.3, 33.8, 22.7])\n",
      "dict_items([('pork', 25.3), ('beef', 33.8), ('chichkem', 22.7)])\n",
      "True\n",
      "False\n"
     ]
    }
   ],
   "source": [
    "#dictionary\n",
    "x={'mark':23,'john':33.8,'cola':23.5}\n",
    "print(x)\n",
    "x=dict([('pork',25),('john',33.8),('chicken',22.7)])\n",
    "print(x)\n",
    "x=dict(pork=25.3,beef=33.8,chichkem=22.7)\n",
    "print(x)\n",
    "\n",
    "#dict oppppetao\n",
    "x['shrimp']=38.2\n",
    "print(x)\n",
    "del(x['shrimp'])\n",
    "print(x)\n",
    "#x.clear()\n",
    "\n",
    "#acces\n",
    "print(x.keys()) \n",
    "print(x.values())\n",
    "print(x.items()) # key value pairs\n",
    "\n",
    "#check in keys\n",
    "print('beef' in x)\n",
    "#check in values\n",
    "print(23 in x.values())"
   ]
  },
  {
   "cell_type": "code",
   "execution_count": 5,
   "metadata": {},
   "outputs": [],
   "source": [
    "#list comprehensions\n",
    "# format: list[transfrom sequence [filter]]\n",
    "import random"
   ]
  },
  {
   "cell_type": "code",
   "execution_count": 6,
   "metadata": {},
   "outputs": [
    {
     "name": "stdout",
     "output_type": "stream",
     "text": [
      "under10: [0, 1, 2, 3, 4, 5, 6, 7, 8, 9]\n",
      "under10: [0, 1, 4, 9, 16, 25, 36, 49, 64, 81, 100, 121]\n",
      "under10: [1, 3, 5, 7, 9]\n",
      "ten10: [0, 10, 20, 30, 40, 50, 60, 70, 80, 90]\n",
      "nums:26\n",
      "1\n",
      "['G', 'D', 'A', 'C', 'B', 'E'] ['G', 'D', 'A', 'C', 'B']\n"
     ]
    }
   ],
   "source": [
    "# to get values within range\n",
    "under10 =[x for x in range(10)]\n",
    "print('under10:' , under10)\n",
    "#to get squared values \n",
    "under10 = [x**2 for x in range(12)]\n",
    "print('under10:' , under10)\n",
    "#odd numbers\n",
    "under10=[x for x in range (10) if x%2==1]\n",
    "print('under10:' , under10)\n",
    "#multiple 10\n",
    "ten10=[x*10 for x in range (10)]\n",
    "print('ten10:' , ten10)\n",
    "\n",
    "#get all number from string\n",
    "string ='Hey I have 2 tickets . Wanna Join at evening 6??'\n",
    "num=[x for x in string if x.isnumeric()]\n",
    "print('nums:'+''.join(num))\n",
    "\n",
    "#get index of a list item\n",
    "names=['Prateek','Anu','NIl','Kop']\n",
    "idx = [x for x, k in enumerate(names) if k=='Anu']\n",
    "print(str(idx[0]))\n",
    "\n",
    "#delete item from list\n",
    "letters=[x for x in 'ABCEDG']\n",
    "random.shuffle(letters)\n",
    "lttr=[x for x in letters if x!='E']\n",
    "print(letters,lttr)"
   ]
  },
  {
   "cell_type": "code",
   "execution_count": 7,
   "metadata": {},
   "outputs": [
    {
     "name": "stdout",
     "output_type": "stream",
     "text": [
      "[4, 3, 2, 8]\n",
      "8\n"
     ]
    }
   ],
   "source": [
    "# stacks use append() to push & pop() to pop\n",
    "mystack=list()\n",
    "mystack.append(4)\n",
    "mystack.append(3)\n",
    "mystack.append(2)\n",
    "mystack.append(8)\n",
    "print(mystack)\n",
    "print(mystack.pop())"
   ]
  },
  {
   "cell_type": "code",
   "execution_count": 8,
   "metadata": {},
   "outputs": [],
   "source": [
    "#wrapper stack\n",
    "class Stack():\n",
    "    def __init__(self):\n",
    "        self.stack=list()\n",
    "    def push(self,item):\n",
    "        self.stack.append(item)\n",
    "    def pop(self):\n",
    "        if len(self.stack)>0:\n",
    "            return self.stack.pop()\n",
    "        else:\n",
    "            return None\n",
    "    def peek(self):\n",
    "        if len(self.stack)>0:\n",
    "            return self.stack[len(self.stack)-1]\n",
    "        else:\n",
    "            return None\n",
    "    def __str__(self):\n",
    "        return str(self.stack)"
   ]
  },
  {
   "cell_type": "code",
   "execution_count": 9,
   "metadata": {},
   "outputs": [
    {
     "name": "stdout",
     "output_type": "stream",
     "text": [
      "[1, 3, 8, 7]\n",
      "7\n",
      "7\n",
      "[1, 3, 8]\n"
     ]
    },
    {
     "data": {
      "text/plain": [
       "8"
      ]
     },
     "execution_count": 9,
     "metadata": {},
     "output_type": "execute_result"
    }
   ],
   "source": [
    "mystack=Stack()\n",
    "mystack.push(1)\n",
    "mystack.push(3)\n",
    "mystack.push(8)\n",
    "mystack.push(7)\n",
    "print(mystack)\n",
    "print(mystack.peek())\n",
    "print(mystack.pop())\n",
    "print(mystack)\n",
    "mystack.peek()"
   ]
  },
  {
   "cell_type": "code",
   "execution_count": 10,
   "metadata": {},
   "outputs": [
    {
     "name": "stdout",
     "output_type": "stream",
     "text": [
      "deque([5, 6])\n",
      "5\n"
     ]
    }
   ],
   "source": [
    "#queue\n",
    "from collections import deque\n",
    "myqueue=deque()\n",
    "myqueue.append(5)\n",
    "myqueue.append(6)\n",
    "print(myqueue)\n",
    "print(myqueue.popleft())"
   ]
  },
  {
   "cell_type": "markdown",
   "metadata": {},
   "source": [
    "# maxheap fast o logn\n",
    "## left child i*2 right child i*2+1 parent i/2\n",
    "\n"
   ]
  },
  {
   "cell_type": "code",
   "execution_count": 11,
   "metadata": {},
   "outputs": [],
   "source": [
    "class MaxHeap:\n",
    "    def __init__(self,items=[]):\n",
    "        super().__init__()\n",
    "        self.heap = [0]\n",
    "        for item in items:\n",
    "            self.heap.append(item)\n",
    "            self.__floatUp(len(self.heap)-1)\n",
    "            \n",
    "    def push(self,data):\n",
    "        self.heap.append(data)\n",
    "        self.__floatUp(len(self.heap)-1)\n",
    "        \n",
    "    def pop(self):\n",
    "        if len(self.heap) >2:\n",
    "            self.__swap(1,len(self.heap)-1)\n",
    "            max=self.heap.pop()\n",
    "            self.__bubbleDown(1)\n",
    "        elif len(self.heap)==2:\n",
    "            max=self.heap.pop()\n",
    "        else:\n",
    "            max = False\n",
    "        return max\n",
    "    \n",
    "    def peek(self):\n",
    "        if self.heap[1]:\n",
    "            return self.heap[1]\n",
    "        else:\n",
    "            return False\n",
    "        \n",
    "    def __swap(self,i,j):\n",
    "        self.heap[i],self.heap[j]=self.heap[j],self.heap[i]\n",
    "        \n",
    "    def __floatUp(self, index):\n",
    "        parent=index//2\n",
    "        if index <=1:\n",
    "            return\n",
    "        elif self.heap[index]>self.heap[parent]:\n",
    "            self.__swap(index,parent)\n",
    "            self.__floatUp(parent)\n",
    "            \n",
    "    def __bubbleDown(self,index):\n",
    "        left=index*2\n",
    "        right=index*2+1\n",
    "        largest=index\n",
    "        if len(self.heap)> left and self.heap[largest]<self.heap[left]:\n",
    "            largest=left\n",
    "        if len(self.heap)> right and self.heap[largest]<self.heap[right]:\n",
    "            largest=right\n",
    "        if largest != index:\n",
    "            self.__swap(index,largest)\n",
    "            self.__bubbleDown(largest)\n",
    "            \n",
    "    def __str__(self):\n",
    "        return str(self.heap)"
   ]
  },
  {
   "cell_type": "code",
   "execution_count": 12,
   "metadata": {},
   "outputs": [
    {
     "name": "stdout",
     "output_type": "stream",
     "text": [
      "[0, 95, 19, 21, 3, 10]\n",
      "95\n",
      "95\n",
      "[0, 21, 19, 10, 3]\n"
     ]
    }
   ],
   "source": [
    "m = MaxHeap([95,3,21])\n",
    "m.push(10)\n",
    "m.push(19)\n",
    "print(m)\n",
    "print(m.peek())\n",
    "print(m.pop())\n",
    "print(m)"
   ]
  },
  {
   "cell_type": "code",
   "execution_count": null,
   "metadata": {},
   "outputs": [],
   "source": []
  }
 ],
 "metadata": {
  "kernelspec": {
   "display_name": "Python 3",
   "language": "python",
   "name": "python3"
  },
  "language_info": {
   "codemirror_mode": {
    "name": "ipython",
    "version": 3
   },
   "file_extension": ".py",
   "mimetype": "text/x-python",
   "name": "python",
   "nbconvert_exporter": "python",
   "pygments_lexer": "ipython3",
   "version": "3.7.4"
  }
 },
 "nbformat": 4,
 "nbformat_minor": 4
}
