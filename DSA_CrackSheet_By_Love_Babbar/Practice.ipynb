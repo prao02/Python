{
 "cells": [
  {
   "cell_type": "markdown",
   "metadata": {},
   "source": [
    "## Write a program to reverse an array or string"
   ]
  },
  {
   "cell_type": "code",
   "execution_count": 1,
   "metadata": {},
   "outputs": [
    {
     "data": {
      "text/plain": [
       "'C:\\\\Users\\\\Prateek\\\\Documents'"
      ]
     },
     "execution_count": 1,
     "metadata": {},
     "output_type": "execute_result"
    }
   ],
   "source": [
    "pwd"
   ]
  },
  {
   "cell_type": "code",
   "execution_count": 1,
   "metadata": {},
   "outputs": [
    {
     "data": {
      "text/plain": [
       "[7, 36, 2, 1]"
      ]
     },
     "execution_count": 1,
     "metadata": {},
     "output_type": "execute_result"
    }
   ],
   "source": [
    "def reverseList(A,start,end):\n",
    "    while (start<end):\n",
    "        A[start],A[end] = A[end],A[start]\n",
    "        start+=1\n",
    "        end-=1\n",
    "    return A\n",
    "        \n",
    "A=[1,2,36,7]\n",
    "reverseList(A,0,3)"
   ]
  },
  {
   "cell_type": "markdown",
   "metadata": {},
   "source": [
    "##  Maximum and minimum of an array using minimum number of comparisons"
   ]
  },
  {
   "cell_type": "code",
   "execution_count": 7,
   "metadata": {},
   "outputs": [
    {
     "name": "stdout",
     "output_type": "stream",
     "text": [
      "Minimum element is 1\n",
      "Maximum element is 3000\n"
     ]
    }
   ],
   "source": [
    "class pair():\n",
    "    def __init__(self):\n",
    "        self.max = 0\n",
    "        self.min = 0\n",
    "def getMinmax(arr: list, n:int ) -> pair:\n",
    "    minmax=pair()\n",
    "    \n",
    "    if n==1:\n",
    "        minmax.max = arr[0]\n",
    "        minmax.min = arr[1]\n",
    "    else:\n",
    "        minmax.max = arr[1]\n",
    "        minmax.min = arr[0]\n",
    "        \n",
    "    for i in range(2,n):\n",
    "        if arr[i]>minmax.max:\n",
    "            minmax.max=arr[i]\n",
    "        elif arr[i]<minmax.min:\n",
    "            minmax.min=arr[i]\n",
    "    return minmax\n",
    "\n",
    "if __name__ == \"__main__\": \n",
    "    arr = [1000, 11, 445, 1, 330, 3000] \n",
    "    arr_size = 6\n",
    "    minmax = getMinmax(arr, arr_size) \n",
    "    print(\"Minimum element is\", minmax.min) \n",
    "    print(\"Maximum element is\", minmax.max) "
   ]
  },
  {
   "cell_type": "markdown",
   "metadata": {},
   "source": [
    "## Find the \"Kth\" max and min element of an array "
   ]
  },
  {
   "cell_type": "code",
   "execution_count": 10,
   "metadata": {},
   "outputs": [
    {
     "name": "stdout",
     "output_type": "stream",
     "text": [
      "Enter the number of test case2\n",
      "Enter the size of list4\n",
      "Enter the number21 12 90 87\n",
      "Enter the kth max3\n",
      "87\n",
      "Enter the size of list3\n",
      "Enter the number2 3 1\n",
      "Enter the kth max3\n",
      "3\n"
     ]
    }
   ],
   "source": [
    "#code\n",
    "t= int(input(\"Enter the number of test case\"))\n",
    "while (t>0):\n",
    "    n=int(input(\"Enter the size of list\"))\n",
    "    arr=list(map(int,input(\"Enter the number\").split()))\n",
    "    arr.sort()\n",
    "    k=int(input(\"Enter the kth max\"))\n",
    "    print(arr[k-1])\n",
    "    t-=1"
   ]
  },
  {
   "cell_type": "markdown",
   "metadata": {},
   "source": [
    "## Given an array which consists of only 0, 1 and 2. Sort the array without using any sorting algo"
   ]
  },
  {
   "cell_type": "code",
   "execution_count": 9,
   "metadata": {},
   "outputs": [
    {
     "name": "stdout",
     "output_type": "stream",
     "text": [
      "1\n",
      "3\n",
      "0 1 0\n",
      "0 0 1\n"
     ]
    }
   ],
   "source": [
    "#code\n",
    "t= int(input())\n",
    "for i in range(t):\n",
    "    n=int(input())\n",
    "    arr=list(map(int,input().split()))\n",
    "    arr.sort()\n",
    "    print(*arr)"
   ]
  },
  {
   "cell_type": "markdown",
   "metadata": {},
   "source": [
    "## Move all negative numbers to beginning and positive to end with constant extra space"
   ]
  },
  {
   "cell_type": "code",
   "execution_count": 16,
   "metadata": {},
   "outputs": [
    {
     "name": "stdout",
     "output_type": "stream",
     "text": [
      "5\n",
      "-1 -27 3 -7 6\n",
      "[-1, -27, -7, 3, 6]\n"
     ]
    }
   ],
   "source": [
    "def rearrange(arr,n):\n",
    "    j=0\n",
    "    for i in range(0,n):\n",
    "        if (arr[i]<0):\n",
    "            temp=arr[i]\n",
    "            arr[i]=arr[j]\n",
    "            arr[j]=temp\n",
    "            j+=1\n",
    "    print(arr)\n",
    "\n",
    "n=int(input())\n",
    "arr=list(map(int,input().split()))\n",
    "rearrange(arr,n)"
   ]
  },
  {
   "cell_type": "markdown",
   "metadata": {},
   "source": [
    "## Find the Union and Intersection of the two sorted arrays."
   ]
  },
  {
   "cell_type": "code",
   "execution_count": 6,
   "metadata": {
    "scrolled": false
   },
   "outputs": [
    {
     "name": "stdout",
     "output_type": "stream",
     "text": [
      "1 2 3 4 5\n",
      "1 2 3 4 5\n",
      "{1, 2, 3, 4, 5}\n",
      "{1, 2, 3, 4, 5}\n"
     ]
    }
   ],
   "source": [
    "arr=list(map(int,input().split()))\n",
    "arr2=list(map(int,input().split()))\n",
    "def union_inter (arr1,arr2):\n",
    "    arr1 = set(arr1)\n",
    "    arr2 = set(arr2)\n",
    "    print(arr1.intersection(arr2))\n",
    "    print(arr1.union(arr2))\n",
    "union_inter (arr,arr2)"
   ]
  },
  {
   "cell_type": "markdown",
   "metadata": {},
   "source": [
    "## Print Duplicate & Unique Number"
   ]
  },
  {
   "cell_type": "code",
   "execution_count": 6,
   "metadata": {},
   "outputs": [
    {
     "name": "stdout",
     "output_type": "stream",
     "text": [
      "4 5 4 5 6 6 7 4 4\n",
      "{4, 5, 6}\n",
      "{4, 5, 6, 7}\n"
     ]
    }
   ],
   "source": [
    "arr=list(map(int,input().split()))\n",
    "duplicate = []\n",
    "unique = []\n",
    "for i in arr:\n",
    "    if i not in unique:\n",
    "        unique.append(i)\n",
    "    else:\n",
    "        duplicate.append(i)\n",
    "print(set(duplicate))\n",
    "print(set(arr))"
   ]
  },
  {
   "cell_type": "markdown",
   "metadata": {},
   "source": [
    "## Print perfect couple number"
   ]
  },
  {
   "cell_type": "code",
   "execution_count": 1,
   "metadata": {},
   "outputs": [
    {
     "name": "stdout",
     "output_type": "stream",
     "text": [
      "2 3 4 1 2\n",
      "6\n",
      "2 4\n",
      "3 3\n",
      "4 2\n",
      "2 4\n"
     ]
    }
   ],
   "source": [
    "arr =list(map(int,input().split()))\n",
    "sum = int(input())\n",
    "count = 0\n",
    "for i in range(len(arr)):\n",
    "    for j in range(len(arr)):\n",
    "        if(arr[i]+arr[j] == sum):\n",
    "            print(arr[i],arr[j])\n",
    "            count+=1\n",
    "            break"
   ]
  },
  {
   "cell_type": "markdown",
   "metadata": {},
   "source": [
    "## Not in vowelprogram"
   ]
  },
  {
   "cell_type": "code",
   "execution_count": 47,
   "metadata": {},
   "outputs": [
    {
     "name": "stdout",
     "output_type": "stream",
     "text": [
      "e\n",
      "its vowel\n"
     ]
    }
   ],
   "source": [
    "vowel = ['a','e','i','o','u','A','E','I','O','U']\n",
    "char = input()\n",
    "if (char.isnumeric()) == True:\n",
    "    print(\"Print alphabet\")\n",
    "elif char not in vowel:\n",
    "    print(\"It's consonant\")\n",
    "else:\n",
    "    print(\"its vowel\")"
   ]
  },
  {
   "cell_type": "code",
   "execution_count": 5,
   "metadata": {
    "scrolled": true
   },
   "outputs": [
    {
     "name": "stdout",
     "output_type": "stream",
     "text": [
      "3 12 4 6 2\n",
      "12\n",
      "[3, 12, 4, 6, 2]\n",
      "3 12 4 6 2\n"
     ]
    }
   ],
   "source": [
    "arr = list(map(int,input().split()))\n",
    "print(max(arr))\n",
    "print(arr)\n",
    "print(*arr)"
   ]
  },
  {
   "cell_type": "code",
   "execution_count": 12,
   "metadata": {},
   "outputs": [
    {
     "name": "stdout",
     "output_type": "stream",
     "text": [
      "2\n",
      "5 5\n",
      "1 2 3 4 5\n",
      "1 2 3 4 5\n",
      "5\n",
      "6 5\n",
      "5 4 3 10 2\n",
      "10 20 30 40\n",
      "8\n"
     ]
    }
   ],
   "source": [
    "#code\n",
    "t = int (input())\n",
    "for i in range(t) :\n",
    "    m,n = map(int,input().split(\" \"))\n",
    "    arr1 = list(map(int,input().split()))\n",
    "    arr2 = list(map(int,input().split()))\n",
    "\n",
    "    arr1 = set(arr1)\n",
    "    arr2 = set(arr2)\n",
    "    z = arr1.union(arr2)\n",
    "    print(len(z))"
   ]
  },
  {
   "cell_type": "markdown",
   "metadata": {},
   "source": [
    "## Write a program to cyclically rotate an array by one."
   ]
  },
  {
   "cell_type": "code",
   "execution_count": 21,
   "metadata": {},
   "outputs": [
    {
     "name": "stdout",
     "output_type": "stream",
     "text": [
      "1\n",
      "5\n",
      "1 2 3 4 5\n",
      "5 1 2 3 4\n"
     ]
    }
   ],
   "source": [
    "#code\n",
    "t = int(input())\n",
    "for i in range(t):\n",
    "    n = int(input())\n",
    "    arr1 = list(map(int,input().split()))\n",
    "    new = [0] * n\n",
    "    new[0] = arr1[-1]\n",
    "    new[1:] = arr1[:-1]\n",
    "    old = new\n",
    "    print(*new)"
   ]
  },
  {
   "cell_type": "markdown",
   "metadata": {},
   "source": [
    "## Kadane's Algorithm"
   ]
  },
  {
   "cell_type": "code",
   "execution_count": 1,
   "metadata": {},
   "outputs": [
    {
     "name": "stdout",
     "output_type": "stream",
     "text": [
      "2\n",
      "5\n",
      "1 2 3 -2 5\n",
      "test :  1 1\n",
      "9\n",
      "4\n",
      "-1 -2 -3 -4\n",
      "test :  -1 -1\n",
      "-1\n"
     ]
    }
   ],
   "source": [
    "#code\n",
    "#from sys import maxint\n",
    "t = int (input())\n",
    "for t in range(t):\n",
    "    n = int(input())\n",
    "    arr  = list(map(int,input().split()))\n",
    "    max_int = arr[0]\n",
    "    sum = arr[0]\n",
    "    print(\"test : \",max_int,sum)\n",
    "    for i in range(1,n):\n",
    "        max_int= max(arr[i],max_int+arr[i])\n",
    "        sum = max(sum,max_int)\n",
    "    print(sum)"
   ]
  },
  {
   "cell_type": "markdown",
   "metadata": {},
   "source": [
    "## MINIMIZE THE HEIGHTS"
   ]
  },
  {
   "cell_type": "code",
   "execution_count": 1,
   "metadata": {
    "scrolled": true
   },
   "outputs": [
    {
     "name": "stdout",
     "output_type": "stream",
     "text": [
      "1\n",
      "2\n",
      "4\n",
      "1 5 8 10\n",
      "5\n"
     ]
    }
   ],
   "source": [
    "#User function Template for python3\n",
    "\n",
    "class Solution:\n",
    "    def getMinDiff(self,arr, n, k):\n",
    "        if (n==1):\n",
    "            return 0\n",
    "        arr.sort()\n",
    "        ans = arr[n-1] - arr[0]\n",
    "        min1 = arr[0]+k\n",
    "        max1 = arr[n-1]-k\n",
    "        if (min1>max1):\n",
    "            min1,max1 = max1,min1\n",
    "        \n",
    "        for i in range(1,n-1):\n",
    "            sub = arr[i]-k\n",
    "            add = arr[i]+k\n",
    "            if (sub>=min1 or add<=max1):\n",
    "                continue\n",
    "            if (max1-sub <= add-min1): \n",
    "                min1=sub \n",
    "            else: \n",
    "                max1 = add  \n",
    "      \n",
    "  \n",
    "        return min(ans, max1 - min1)\n",
    "#{ \n",
    "#  Driver Code Starts\n",
    "#Initial Template for Python 3\n",
    "\n",
    "\n",
    "\n",
    "# } Driver Code Ends"
   ]
  },
  {
   "cell_type": "markdown",
   "metadata": {},
   "source": [
    "## find duplicate in an array of N+1 Integers"
   ]
  },
  {
   "cell_type": "code",
   "execution_count": 3,
   "metadata": {},
   "outputs": [
    {
     "name": "stdout",
     "output_type": "stream",
     "text": [
      "1 1 2 3 7\n",
      "1\n"
     ]
    }
   ],
   "source": [
    "class Solution:\n",
    "    def findDuplicate(self, nums):\n",
    "        n = len(nums)\n",
    "        copy = []\n",
    "        for i in range(0,n):\n",
    "            for j in range(i+1,n):\n",
    "                if nums[i]==nums[j]:\n",
    "                    ans = nums [j]\n",
    "        return ans\n",
    "        \n",
    "        \n",
    "if __name__ == '__main__':\n",
    "\n",
    "    List = list(map(int, input().split()))\n",
    "    ob = Solution()\n",
    "    ans = ob.findDuplicate(List)\n",
    "    print(ans)"
   ]
  },
  {
   "cell_type": "markdown",
   "metadata": {},
   "source": [
    "## Merge Without Extra Space"
   ]
  },
  {
   "cell_type": "code",
   "execution_count": 6,
   "metadata": {
    "scrolled": true
   },
   "outputs": [
    {
     "name": "stdout",
     "output_type": "stream",
     "text": [
      "1\n",
      "4 5\n",
      "1 2 3 5\n",
      "0 4 5 8 9\n",
      "1 2 3 5 0 4 5 8 9 \n"
     ]
    }
   ],
   "source": [
    "#User function Template for python3\n",
    "\n",
    "class Solution:\n",
    "    def merge(self, arr1, arr2, n, m):\n",
    "        comp = []\n",
    "        comp.extend(arr1)\n",
    "        comp.extend(arr2)\n",
    "        comp.sort()\n",
    "        x1 = [comp[i:i +n] for i in range(0,n)]\n",
    "        arr1 = x1[0]\n",
    "        x2 = [comp[i:i +m] for i in range(n,len(comp),m)]\n",
    "        arr2 = x2[0]\n",
    "        return arr1,arr2\n",
    "#{ \n",
    "#  Driver Code Starts\n",
    "#Initial Template for Python 3\n",
    "\n",
    "if __name__ == \"__main__\": \t\t\n",
    "    tc=int(input())\n",
    "    while tc > 0:\n",
    "        n, m=map(int, (input().strip().split()))\n",
    "        arr1=list(map(int , input().strip().split()))\n",
    "        arr2=list(map(int , input().strip().split()))\n",
    "        ob = Solution()\n",
    "        ans=ob.merge(arr1, arr2, n, m)\n",
    "        for x in arr1:\n",
    "            print(x, end=\" \")\n",
    "        for x in arr2:\n",
    "            print(x, end=\" \")\n",
    "        print()\n",
    "        tc=tc-1\n",
    "# } Driver Code Ends"
   ]
  },
  {
   "cell_type": "markdown",
   "metadata": {},
   "source": [
    "## Given an array of size n and a number k, find all elements that appear more than n/k times"
   ]
  },
  {
   "cell_type": "code",
   "execution_count": 11,
   "metadata": {},
   "outputs": [
    {
     "name": "stdout",
     "output_type": "stream",
     "text": [
      "3 1 2 2 1 2 3 3\n",
      "4\n",
      "[2, 3] 3\n"
     ]
    }
   ],
   "source": [
    "arr = list(map(int,input().split()))\n",
    "k = int(input())\n",
    "n=len(arr)\n",
    "ans =[]\n",
    "arr.sort()\n",
    "for i in arr:\n",
    "    if i not in ans:\n",
    "        if arr.count(i) > n//k: \n",
    "            ans.append(i)\n",
    "            times=arr.count(i)\n",
    "print(ans,times)"
   ]
  },
  {
   "cell_type": "markdown",
   "metadata": {},
   "source": [
    "## Find whether an array is a subset of another array"
   ]
  },
  {
   "cell_type": "code",
   "execution_count": 16,
   "metadata": {
    "scrolled": true
   },
   "outputs": [
    {
     "name": "stdout",
     "output_type": "stream",
     "text": [
      "1\n",
      "6 4\n",
      "11 1 13 21 3 7\n",
      "11 3 7 1\n",
      "Yes\n"
     ]
    }
   ],
   "source": [
    "#code\n",
    "t = int(input())\n",
    "for i in range(t):\n",
    "    n1,n2=map(int,input().split())\n",
    "    arr1=list(map(int,input().split()))\n",
    "    arr2=list(map(int,input().split()))\n",
    "    arr3= []\n",
    "    for i in arr1:\n",
    "        if i in arr2:\n",
    "            arr3.append(i)\n",
    "    arr2.sort()\n",
    "    arr3.sort()\n",
    "    if arr2==arr3:\n",
    "        print('Yes')\n",
    "    else:\n",
    "        print('No')"
   ]
  },
  {
   "cell_type": "markdown",
   "metadata": {},
   "source": [
    "## find the factorials of large number"
   ]
  },
  {
   "cell_type": "code",
   "execution_count": 1,
   "metadata": {},
   "outputs": [
    {
     "name": "stdout",
     "output_type": "stream",
     "text": [
      "3\n",
      "100\n",
      "93326215443944152681699238856266700490715968264381621468592963895217599993229915608941463976156518286253697920827223758251185210916864000000000000000000000000\n",
      "5\n",
      "120\n",
      "3\n",
      "6\n"
     ]
    }
   ],
   "source": [
    "#code\n",
    "def factorial(num):\n",
    "    return 1 if (num==1 or num==0) else num * factorial(num - 1);\n",
    "    \n",
    "t = int(input())\n",
    "for i in range(t):\n",
    "    x=int(input())\n",
    "    print(factorial(x))"
   ]
  },
  {
   "cell_type": "code",
   "execution_count": 13,
   "metadata": {},
   "outputs": [
    {
     "data": {
      "text/plain": [
       "2"
      ]
     },
     "execution_count": 13,
     "metadata": {},
     "output_type": "execute_result"
    }
   ],
   "source": [
    "n = 4\n",
    "arr = [34,23,12,10]\n",
    "x = 10\n",
    "def check(n,x,arr):\n",
    "    for i in arr:\n",
    "        if i==x:\n",
    "            return 2\n",
    "check(n,x,arr)"
   ]
  },
  {
   "cell_type": "markdown",
   "metadata": {},
   "source": [
    "## First and last occurrences of X (sorted)"
   ]
  },
  {
   "cell_type": "code",
   "execution_count": 14,
   "metadata": {},
   "outputs": [
    {
     "name": "stdout",
     "output_type": "stream",
     "text": [
      "1\n",
      "4 10\n",
      "10 3 4 10\n",
      "2 3\n"
     ]
    }
   ],
   "source": [
    "#code\n",
    "def check(n,x,arr):\n",
    "    for i in arr:\n",
    "        if i==x:\n",
    "            return True\n",
    "def occur(n,x,arr):\n",
    "    if check(n,x,arr) == True:\n",
    "        rev = arr[::-1]\n",
    "        index1 = arr.index(x)\n",
    "        index2 = n-rev.index(x)-1\n",
    "        print(index1,index2)\n",
    "    else:\n",
    "        print(-1)\n",
    "t = int(input())\n",
    "for i in range(t):\n",
    "    n,x = map(int,input().split())\n",
    "    arr = list(map(int,input().split()))\n",
    "    arr.sort()\n",
    "    check(n,x,arr)\n",
    "    occur(n,x,arr)"
   ]
  },
  {
   "cell_type": "code",
   "execution_count": 24,
   "metadata": {},
   "outputs": [
    {
     "name": "stdout",
     "output_type": "stream",
     "text": [
      "1\n",
      "5\n",
      "1 2 4 5 2\n",
      "1 2 \n"
     ]
    }
   ],
   "source": [
    "#User function Template for python3\n",
    "class Solution:\n",
    "\n",
    "\tdef valueEqualToIndex(self,arr, n):\n",
    "\t    a = [x for x in range(1,n+1)]\n",
    "\t    ans =[]\n",
    "\t    for i in range(0,n):\n",
    "\t        if arr[i]==a[i]:\n",
    "\t            ans.append(i+1)\n",
    "\t    return ans\n",
    "\n",
    "\n",
    "\n",
    "#{ \n",
    "#  Driver Code Starts\n",
    "#Initial Template for Python 3\n",
    "\n",
    "\n",
    "\n",
    "if __name__ == '__main__':\n",
    "    tc = int(input())\n",
    "    while tc > 0:\n",
    "        n = int(input())\n",
    "        arr = list(map(int, input().strip().split()))\n",
    "        ob = Solution()\n",
    "        ans = ob.valueEqualToIndex(arr, n)\n",
    "        if len(ans) == 0:\n",
    "            print(\"Not Found\")\n",
    "        else:\n",
    "            for x in ans:\n",
    "                print(x, end=\" \")\n",
    "            print()\n",
    "        tc -= 1\n",
    "\n",
    "# } Driver Code Ends\n"
   ]
  },
  {
   "cell_type": "code",
   "execution_count": 6,
   "metadata": {},
   "outputs": [
    {
     "name": "stdout",
     "output_type": "stream",
     "text": [
      "1\n",
      "20143016\n",
      "4488\n"
     ]
    }
   ],
   "source": [
    "#User function Template for python3\n",
    "import math \n",
    "class Solution:\n",
    "    def countSquares(self, N):\n",
    "        root = int(N**(1/2))\n",
    "        ans = int()\n",
    "        if root*root ==N:\n",
    "            ans = root-1\n",
    "        else:\n",
    "            ans = root\n",
    "        return ans\n",
    "\n",
    "\n",
    "#{ \n",
    "#  Driver Code Starts\n",
    "#Initial Template for Python 3\n",
    "import math\n",
    "\n",
    "if __name__ == '__main__': \n",
    "    t = int (input ())\n",
    "    for _ in range (t):\n",
    "        N=int(input())\n",
    "        \n",
    "        ob = Solution()\n",
    "        print(ob.countSquares(N))\n",
    "# } Driver Code Ends"
   ]
  },
  {
   "cell_type": "markdown",
   "metadata": {},
   "source": [
    "## Search in a rotated sorted array"
   ]
  },
  {
   "cell_type": "code",
   "execution_count": 11,
   "metadata": {},
   "outputs": [],
   "source": [
    "def search(arr,target):\n",
    "        counter = 0\n",
    "        for i in arr:\n",
    "            counter+=1   \n",
    "        ans = int()\n",
    "        for i in range(counter):\n",
    "            if arr[i] is target:\n",
    "                ans = i\n",
    "                break\n",
    "            else:\n",
    "                ans = -1\n",
    "        return ans"
   ]
  },
  {
   "cell_type": "code",
   "execution_count": 13,
   "metadata": {},
   "outputs": [
    {
     "data": {
      "text/plain": [
       "-1"
      ]
     },
     "execution_count": 13,
     "metadata": {},
     "output_type": "execute_result"
    }
   ],
   "source": [
    "nums = [4,5,6,7,0,1,2]\n",
    "target = 23\n",
    "search(nums,target)"
   ]
  },
  {
   "cell_type": "code",
   "execution_count": 38,
   "metadata": {
    "scrolled": false
   },
   "outputs": [
    {
     "data": {
      "text/plain": [
       "49"
      ]
     },
     "execution_count": 38,
     "metadata": {},
     "output_type": "execute_result"
    }
   ],
   "source": [
    "def Extract(lst): \n",
    "    return [item[-1] for item in lst] , [item[0] for item in lst]\n",
    "arr = [[0.4339, 15.2476],\n",
    " [0.7377, 8.3137],\n",
    " [1.1354, 16.5638],\n",
    " [1.582, 17.303],\n",
    " [2.0913, 9.2924],\n",
    " [2.2631, 17.3392],\n",
    " [2.6373, 2.6425],\n",
    " [3.004, 19.5712],\n",
    " [3.6684, 14.8018],\n",
    " [3.863, 13.7008],\n",
    " [4.2065, 9.8224],\n",
    " [4.8353, 2.0944],\n",
    " [4.9785, 3.1596],\n",
    " [5.3754, 17.6381],\n",
    " [5.9425, 6.036],\n",
    " [6.1451, 3.8132],\n",
    " [6.7782, 11.0125],\n",
    " [6.9223, 7.7819],\n",
    " [7.5691, 0.9378],\n",
    " [7.819, 13.1697],\n",
    " [8.3332, 5.9161],\n",
    " [8.5872, 7.8303],\n",
    " [9.1224, 14.5889],\n",
    " [9.4076, 9.7166],\n",
    " [9.7208, 8.1154],\n",
    " [10.1662, 19.1705],\n",
    " [10.7387, 2.009],\n",
    " [10.9354, 5.1813],\n",
    " [11.3707, 7.2406],\n",
    " [11.7418, 13.6874],\n",
    " [12.0526, 4.7186],\n",
    " [12.6385, 12.1],\n",
    " [13.095, 13.6956],\n",
    " [13.3533, 17.3524],\n",
    " [13.8794, 3.9479],\n",
    " [14.2674, 15.8651],\n",
    " [14.552, 17.2489],\n",
    " [14.9737, 13.2245],\n",
    " [15.2841, 1.4455],\n",
    " [15.5761, 12.127],\n",
    " [16.1313, 14.2029],\n",
    " [16.4388, 16.0084],\n",
    " [16.7821, 9.4334],\n",
    " [17.3928, 12.9692],\n",
    " [17.5139, 6.4828],\n",
    " [17.9487, 7.5563],\n",
    " [18.3958, 19.5112],\n",
    " [18.9696, 19.3565],\n",
    " [19.0928, 16.5453]]\n",
    "k,j = Extract(arr)\n",
    "len(k)"
   ]
  },
  {
   "cell_type": "code",
   "execution_count": 37,
   "metadata": {},
   "outputs": [
    {
     "data": {
      "text/plain": [
       "49"
      ]
     },
     "execution_count": 37,
     "metadata": {},
     "output_type": "execute_result"
    }
   ],
   "source": [
    "city_names = [[15.5761, 12.127], [12.0526, 4.7186], [16.7821, 9.4334], [2.6373, 2.6425], [19.0928, 16.5453], [1.1354, 16.5638], [14.552, 17.2489], [15.2841, 1.4455], [3.004, 19.5712], [16.4388, 16.0084], [16.1313, 14.2029], [18.3958, 19.5112], [9.1224, 14.5889], [17.3928, 12.9692], [13.3533, 17.3524], [18.9696, 19.3565], [5.3754, 17.6381], [9.7208, 8.1154], [4.2065, 9.8224], [17.9487, 7.5563], [7.5691, 0.9378], [0.7377, 8.3137], [4.8353, 2.0944], [7.819, 13.1697], [13.8794, 3.9479], [10.9354, 5.1813], [9.4076, 9.7166], [10.1662, 19.1705], [2.0913, 9.2924], [6.7782, 11.0125], [17.5139, 6.4828], [14.9737, 13.2245], [3.863, 13.7008], [8.3332, 5.9161], [1.582, 17.303], [5.9425, 6.036], [6.1451, 3.8132], [8.5872, 7.8303], [6.9223, 7.7819], [11.7418, 13.6874], [2.2631, 17.3392], [11.3707, 7.2406], [4.9785, 3.1596], [13.095, 13.6956], [3.6684, 14.8018], [14.2674, 15.8651], [12.6385, 12.1], [0.4339, 15.2476], [10.7387, 2.009]]\n",
    "len(city_names)"
   ]
  }
 ],
 "metadata": {
  "kernelspec": {
   "display_name": "Python 3",
   "language": "python",
   "name": "python3"
  },
  "language_info": {
   "codemirror_mode": {
    "name": "ipython",
    "version": 3
   },
   "file_extension": ".py",
   "mimetype": "text/x-python",
   "name": "python",
   "nbconvert_exporter": "python",
   "pygments_lexer": "ipython3",
   "version": "3.8.5"
  }
 },
 "nbformat": 4,
 "nbformat_minor": 4
}
